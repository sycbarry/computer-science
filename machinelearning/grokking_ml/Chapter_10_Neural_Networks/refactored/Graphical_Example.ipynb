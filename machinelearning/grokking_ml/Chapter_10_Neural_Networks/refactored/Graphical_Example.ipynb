{
 "cells": [
  {
   "cell_type": "markdown",
   "id": "f32276ae-b51f-4778-8405-1da83927d2a8",
   "metadata": {},
   "source": [
    "# A graphical example\n",
    "\n",
    "We'll cover building a basic model and plotting the decision boundary used from previous chapters."
   ]
  },
  {
   "cell_type": "code",
   "execution_count": 1,
   "id": "5439e1cb-9621-444d-acb1-90ff3d34107b",
   "metadata": {},
   "outputs": [],
   "source": [
    "# Imports\n",
    "\n",
    "import pandas\n",
    "import numpy\n",
    "import matplotlib.pyplot as plt\n",
    "import tensorflow\n",
    "import tensorflow.keras\n",
    "from tensorflow.keras.models import Sequential\n",
    "from tensorflow.keras.layers import Dense, Dropout, Activation\n",
    "from tensorflow.keras.optimizers import SGD\n",
    "\n",
    "import _plotting\n",
    "\n",
    "# Setting random seeds to get reproducible results\n",
    "numpy.random.seed(0)\n",
    "tensorflow.random.set_seed(1)"
   ]
  },
  {
   "cell_type": "code",
   "execution_count": 2,
   "id": "31f992b5-3c61-4fe7-9678-5aa1871bd237",
   "metadata": {},
   "outputs": [
    {
     "data": {
      "image/png": "[encoded data removed]",
      "text/plain": [
       "<Figure size 432x288 with 1 Axes>"
      ]
     },
     "metadata": {
      "needs_background": "light"
     },
     "output_type": "display_data"
    }
   ],
   "source": [
    "# Read the dataset\n",
    "data = pandas.read_csv('one_circle.csv', index_col=0)\n",
    "columns_features = ['x_1', 'x_2']\n",
    "column_label = 'y'\n",
    "features = data[columns_features].values\n",
    "labels = data[column_label].values\n",
    "\n",
    "_plotting.plot_scatter(data['x_1'][labels == 0], data['x_2'][labels == 0], marker = 's')\n",
    "_plotting.plot_scatter(data['x_1'][labels == 1], data['x_2'][labels == 1], marker = '^')\n",
    "plt.xlabel('x_1')\n",
    "plt.ylabel('x_2')\n",
    "plt.legend([\"Happy\", \"Sad\"])\n",
    "plt.show()"
   ]
  },
  {
   "cell_type": "markdown",
   "id": "e35a55ab-a410-4825-9870-030e44967405",
   "metadata": {},
   "source": [
    "## Preprocessing\n",
    "We'll convert the label column to categorical to make it easier for the model to process. It also saves memory too.\n",
    "Pandas has a built-in function called factorize, which interprets the number of classes for us.\n",
    "Unlike keras.utils.to_categorical, this returns a 1D-array."
   ]
  },
  {
   "cell_type": "code",
   "execution_count": 3,
   "id": "a96d1026-2a2a-434f-ad39-9f8430a33051",
   "metadata": {},
   "outputs": [],
   "source": [
    "# Categorizing the output\n",
    "series_labels, labels = pandas.factorize(data[column_label])"
   ]
  },
  {
   "cell_type": "code",
   "execution_count": 4,
   "id": "d675cbeb-62d5-42ad-a347-c5a704d8e682",
   "metadata": {},
   "outputs": [
    {
     "data": {
      "text/plain": [
       "(array([0, 0, 0, 0, 0, 0, 0, 0, 0, 0, 0, 1, 0, 0, 0, 0, 0, 0, 0, 0, 0, 0,\n",
       "        0, 1, 0, 1, 0, 0, 0, 0, 0, 0, 0, 1, 1, 0, 1, 0, 0, 1, 0, 0, 0, 0,\n",
       "        0, 0, 0, 0, 0, 1, 0, 0, 0, 0, 0, 0, 0, 0, 0, 1, 0, 1, 0, 1, 0, 0,\n",
       "        0, 0, 0, 0, 0, 0, 0, 0, 0, 0, 0, 1, 0, 0, 0, 0, 0, 0, 0, 0, 0, 1,\n",
       "        1, 0, 0, 0, 0, 1, 1, 1, 0, 1, 0, 0, 1, 1, 1, 1, 0, 1, 1, 1, 1, 0],\n",
       "       dtype=int64),\n",
       " Int64Index([0, 1], dtype='int64'))"
      ]
     },
     "execution_count": 4,
     "metadata": {},
     "output_type": "execute_result"
    }
   ],
   "source": [
    "series_labels, labels"
   ]
  },
  {
   "cell_type": "markdown",
   "id": "aa8058ac-1da6-46af-81bd-9f76deabb8fe",
   "metadata": {},
   "source": [
    "## Model Structure\n",
    "\n",
    "We'll use a sequential model to add a few dense layers with the ReLu activation function. Why are we using sigmoid instead of softmax? It's also a common practice to add dropout. It is also a good idea to set our unit sizes as powers of 2, which was a trick for training slightly faster on GPUs. . We also use sparse_categorical_crossentropy since our labels are 1D."
   ]
  },
  {
   "cell_type": "code",
   "execution_count": 5,
   "id": "a633e485-6a3e-4efb-b4c9-76c72900f8b0",
   "metadata": {},
   "outputs": [
    {
     "name": "stdout",
     "output_type": "stream",
     "text": [
      "Model: \"sequential\"\n",
      "_________________________________________________________________\n",
      " Layer (type)                Output Shape              Param #   \n",
      "=================================================================\n",
      " dense (Dense)               (None, 128)               384       \n",
      "                                                                 \n",
      " dropout (Dropout)           (None, 128)               0         \n",
      "                                                                 \n",
      " dense_1 (Dense)             (None, 64)                8256      \n",
      "                                                                 \n",
      " dropout_1 (Dropout)         (None, 64)                0         \n",
      "                                                                 \n",
      " dense_2 (Dense)             (None, 2)                 130       \n",
      "                                                                 \n",
      "=================================================================\n",
      "Total params: 8,770\n",
      "Trainable params: 8,770\n",
      "Non-trainable params: 0\n",
      "_________________________________________________________________\n"
     ]
    }
   ],
   "source": [
    "# Building the model\n",
    "num_units_penultimate = 2**6\n",
    "model = Sequential()\n",
    "model.add(Dense(2**7, activation='relu', input_shape=(features.shape[1],)))\n",
    "model.add(Dropout(.2))\n",
    "model.add(Dense(num_units_penultimate, activation='relu'))\n",
    "model.add(Dropout(.2))\n",
    "model.add(Dense(len(labels), activation='sigmoid')) # two classes, else softmax\n",
    "\n",
    "# Compiling the model\n",
    "model.compile(\n",
    "    loss = 'sparse_categorical_crossentropy', # 1D labels, else categorical_crossentropy\n",
    "    optimizer='adam', \n",
    "    metrics=['accuracy']\n",
    ")\n",
    "model.summary()"
   ]
  },
  {
   "cell_type": "markdown",
   "id": "ab155374-6527-4d87-85e0-a33cb4be83d7",
   "metadata": {},
   "source": [
    "## Training the Model\n",
    "It's a good practice to set your batch size equal to the number of penultimate neurons in your layer. Training accuracy will vary due to the stochastic nature of the model, but you can clearly see the loss going down and the accuracy going up."
   ]
  },
  {
   "cell_type": "code",
   "execution_count": 6,
   "id": "23931e74-ca35-4f2e-b0b4-a91cf2d9f479",
   "metadata": {},
   "outputs": [
    {
     "name": "stdout",
     "output_type": "stream",
     "text": [
      "Epoch 1/100\n",
      "2/2 [==============================] - 1s 5ms/step - loss: 0.6353 - accuracy: 0.6727\n",
      "Epoch 2/100\n",
      "2/2 [==============================] - 0s 4ms/step - loss: 0.5599 - accuracy: 0.7364\n",
      "Epoch 3/100\n",
      "2/2 [==============================] - 0s 4ms/step - loss: 0.5048 - accuracy: 0.7636\n",
      "Epoch 4/100\n",
      "2/2 [==============================] - 0s 5ms/step - loss: 0.4643 - accuracy: 0.7636\n",
      "Epoch 5/100\n",
      "2/2 [==============================] - 0s 4ms/step - loss: 0.4711 - accuracy: 0.7636\n",
      "Epoch 6/100\n",
      "2/2 [==============================] - 0s 5ms/step - loss: 0.4485 - accuracy: 0.7636\n",
      "Epoch 7/100\n",
      "2/2 [==============================] - 0s 4ms/step - loss: 0.4415 - accuracy: 0.7636\n",
      "Epoch 8/100\n",
      "2/2 [==============================] - 0s 4ms/step - loss: 0.4531 - accuracy: 0.7636\n",
      "Epoch 9/100\n",
      "2/2 [==============================] - 0s 4ms/step - loss: 0.4667 - accuracy: 0.7636\n",
      "Epoch 10/100\n",
      "2/2 [==============================] - 0s 4ms/step - loss: 0.4532 - accuracy: 0.7636\n",
      "Epoch 11/100\n",
      "2/2 [==============================] - 0s 4ms/step - loss: 0.4372 - accuracy: 0.7636\n",
      "Epoch 12/100\n",
      "2/2 [==============================] - 0s 5ms/step - loss: 0.4614 - accuracy: 0.7636\n",
      "Epoch 13/100\n",
      "2/2 [==============================] - 0s 4ms/step - loss: 0.4456 - accuracy: 0.7636\n",
      "Epoch 14/100\n",
      "2/2 [==============================] - 0s 5ms/step - loss: 0.4272 - accuracy: 0.7636\n",
      "Epoch 15/100\n",
      "2/2 [==============================] - 0s 4ms/step - loss: 0.4234 - accuracy: 0.7636\n",
      "Epoch 16/100\n",
      "2/2 [==============================] - 0s 5ms/step - loss: 0.4367 - accuracy: 0.7636\n",
      "Epoch 17/100\n",
      "2/2 [==============================] - 0s 4ms/step - loss: 0.4437 - accuracy: 0.7636\n",
      "Epoch 18/100\n",
      "2/2 [==============================] - 0s 5ms/step - loss: 0.4215 - accuracy: 0.7636\n",
      "Epoch 19/100\n",
      "2/2 [==============================] - 0s 4ms/step - loss: 0.4383 - accuracy: 0.7636\n",
      "Epoch 20/100\n",
      "2/2 [==============================] - 0s 4ms/step - loss: 0.4315 - accuracy: 0.7636\n",
      "Epoch 21/100\n",
      "2/2 [==============================] - 0s 4ms/step - loss: 0.4327 - accuracy: 0.7636\n",
      "Epoch 22/100\n",
      "2/2 [==============================] - 0s 4ms/step - loss: 0.4443 - accuracy: 0.7636\n",
      "Epoch 23/100\n",
      "2/2 [==============================] - 0s 5ms/step - loss: 0.4247 - accuracy: 0.7636\n",
      "Epoch 24/100\n",
      "2/2 [==============================] - 0s 4ms/step - loss: 0.4308 - accuracy: 0.7636\n",
      "Epoch 25/100\n",
      "2/2 [==============================] - 0s 5ms/step - loss: 0.4346 - accuracy: 0.7636\n",
      "Epoch 26/100\n",
      "2/2 [==============================] - 0s 4ms/step - loss: 0.3979 - accuracy: 0.7636\n",
      "Epoch 27/100\n",
      "2/2 [==============================] - 0s 4ms/step - loss: 0.4168 - accuracy: 0.7636\n",
      "Epoch 28/100\n",
      "2/2 [==============================] - 0s 4ms/step - loss: 0.4175 - accuracy: 0.7636\n",
      "Epoch 29/100\n",
      "2/2 [==============================] - 0s 4ms/step - loss: 0.4219 - accuracy: 0.7636\n",
      "Epoch 30/100\n",
      "2/2 [==============================] - 0s 5ms/step - loss: 0.4317 - accuracy: 0.7636\n",
      "Epoch 31/100\n",
      "2/2 [==============================] - 0s 6ms/step - loss: 0.4147 - accuracy: 0.7636\n",
      "Epoch 32/100\n",
      "2/2 [==============================] - 0s 5ms/step - loss: 0.4238 - accuracy: 0.7636\n",
      "Epoch 33/100\n",
      "2/2 [==============================] - 0s 5ms/step - loss: 0.4070 - accuracy: 0.7636\n",
      "Epoch 34/100\n",
      "2/2 [==============================] - 0s 4ms/step - loss: 0.3987 - accuracy: 0.7636\n",
      "Epoch 35/100\n",
      "2/2 [==============================] - 0s 4ms/step - loss: 0.4030 - accuracy: 0.7636\n",
      "Epoch 36/100\n",
      "2/2 [==============================] - 0s 4ms/step - loss: 0.3987 - accuracy: 0.7636\n",
      "Epoch 37/100\n",
      "2/2 [==============================] - 0s 4ms/step - loss: 0.3996 - accuracy: 0.7636\n",
      "Epoch 38/100\n",
      "2/2 [==============================] - 0s 5ms/step - loss: 0.4098 - accuracy: 0.7636\n",
      "Epoch 39/100\n",
      "2/2 [==============================] - 0s 5ms/step - loss: 0.4255 - accuracy: 0.7636\n",
      "Epoch 40/100\n",
      "2/2 [==============================] - 0s 4ms/step - loss: 0.3968 - accuracy: 0.7636\n",
      "Epoch 41/100\n",
      "2/2 [==============================] - 0s 4ms/step - loss: 0.3902 - accuracy: 0.7636\n",
      "Epoch 42/100\n",
      "2/2 [==============================] - 0s 5ms/step - loss: 0.4079 - accuracy: 0.7636\n",
      "Epoch 43/100\n",
      "2/2 [==============================] - 0s 5ms/step - loss: 0.3863 - accuracy: 0.7818\n",
      "Epoch 44/100\n",
      "2/2 [==============================] - 0s 4ms/step - loss: 0.4085 - accuracy: 0.7727\n",
      "Epoch 45/100\n",
      "2/2 [==============================] - 0s 6ms/step - loss: 0.4035 - accuracy: 0.7727\n",
      "Epoch 46/100\n",
      "2/2 [==============================] - 0s 5ms/step - loss: 0.3837 - accuracy: 0.7818\n",
      "Epoch 47/100\n",
      "2/2 [==============================] - 0s 4ms/step - loss: 0.3844 - accuracy: 0.7727\n",
      "Epoch 48/100\n",
      "2/2 [==============================] - 0s 4ms/step - loss: 0.3847 - accuracy: 0.7909\n",
      "Epoch 49/100\n",
      "2/2 [==============================] - 0s 18ms/step - loss: 0.3852 - accuracy: 0.7909\n",
      "Epoch 50/100\n",
      "2/2 [==============================] - 0s 11ms/step - loss: 0.3775 - accuracy: 0.8000\n",
      "Epoch 51/100\n",
      "2/2 [==============================] - 0s 15ms/step - loss: 0.3724 - accuracy: 0.7909\n",
      "Epoch 52/100\n",
      "2/2 [==============================] - 0s 4ms/step - loss: 0.3805 - accuracy: 0.8000\n",
      "Epoch 53/100\n",
      "2/2 [==============================] - 0s 4ms/step - loss: 0.3689 - accuracy: 0.7909\n",
      "Epoch 54/100\n",
      "2/2 [==============================] - 0s 3ms/step - loss: 0.3665 - accuracy: 0.7909\n",
      "Epoch 55/100\n",
      "2/2 [==============================] - 0s 4ms/step - loss: 0.3833 - accuracy: 0.7909\n",
      "Epoch 56/100\n",
      "2/2 [==============================] - 0s 5ms/step - loss: 0.3594 - accuracy: 0.7909\n",
      "Epoch 57/100\n",
      "2/2 [==============================] - 0s 4ms/step - loss: 0.3724 - accuracy: 0.7909\n",
      "Epoch 58/100\n",
      "2/2 [==============================] - 0s 5ms/step - loss: 0.3725 - accuracy: 0.8000\n",
      "Epoch 59/100\n",
      "2/2 [==============================] - 0s 5ms/step - loss: 0.3853 - accuracy: 0.8000\n",
      "Epoch 60/100\n",
      "2/2 [==============================] - 0s 4ms/step - loss: 0.3907 - accuracy: 0.8091\n",
      "Epoch 61/100\n",
      "2/2 [==============================] - 0s 4ms/step - loss: 0.3694 - accuracy: 0.8091\n",
      "Epoch 62/100\n",
      "2/2 [==============================] - 0s 3ms/step - loss: 0.3712 - accuracy: 0.8000\n",
      "Epoch 63/100\n",
      "2/2 [==============================] - 0s 5ms/step - loss: 0.3653 - accuracy: 0.8091\n",
      "Epoch 64/100\n",
      "2/2 [==============================] - 0s 5ms/step - loss: 0.3560 - accuracy: 0.8091\n",
      "Epoch 65/100\n",
      "2/2 [==============================] - 0s 4ms/step - loss: 0.3520 - accuracy: 0.8091\n",
      "Epoch 66/100\n",
      "2/2 [==============================] - 0s 4ms/step - loss: 0.3667 - accuracy: 0.8182\n",
      "Epoch 67/100\n",
      "2/2 [==============================] - 0s 4ms/step - loss: 0.3691 - accuracy: 0.8182\n",
      "Epoch 68/100\n",
      "2/2 [==============================] - 0s 4ms/step - loss: 0.3448 - accuracy: 0.8273\n",
      "Epoch 69/100\n",
      "2/2 [==============================] - 0s 4ms/step - loss: 0.3562 - accuracy: 0.8273\n",
      "Epoch 70/100\n",
      "2/2 [==============================] - 0s 4ms/step - loss: 0.3534 - accuracy: 0.8273\n",
      "Epoch 71/100\n",
      "2/2 [==============================] - 0s 4ms/step - loss: 0.3663 - accuracy: 0.8273\n",
      "Epoch 72/100\n",
      "2/2 [==============================] - 0s 4ms/step - loss: 0.3442 - accuracy: 0.8273\n",
      "Epoch 73/100\n",
      "2/2 [==============================] - 0s 3ms/step - loss: 0.3456 - accuracy: 0.8091\n",
      "Epoch 74/100\n",
      "2/2 [==============================] - 0s 5ms/step - loss: 0.3433 - accuracy: 0.8364\n",
      "Epoch 75/100\n",
      "2/2 [==============================] - 0s 3ms/step - loss: 0.3412 - accuracy: 0.8455\n",
      "Epoch 76/100\n",
      "2/2 [==============================] - 0s 4ms/step - loss: 0.3354 - accuracy: 0.8455\n",
      "Epoch 77/100\n",
      "2/2 [==============================] - 0s 5ms/step - loss: 0.3552 - accuracy: 0.8182\n",
      "Epoch 78/100\n",
      "2/2 [==============================] - 0s 4ms/step - loss: 0.3225 - accuracy: 0.8545\n",
      "Epoch 79/100\n",
      "2/2 [==============================] - 0s 4ms/step - loss: 0.3322 - accuracy: 0.8455\n",
      "Epoch 80/100\n",
      "2/2 [==============================] - 0s 3ms/step - loss: 0.3366 - accuracy: 0.8455\n",
      "Epoch 81/100\n",
      "2/2 [==============================] - 0s 4ms/step - loss: 0.3389 - accuracy: 0.8545\n",
      "Epoch 82/100\n",
      "2/2 [==============================] - 0s 3ms/step - loss: 0.3256 - accuracy: 0.8909\n",
      "Epoch 83/100\n",
      "2/2 [==============================] - 0s 5ms/step - loss: 0.3288 - accuracy: 0.8727\n",
      "Epoch 84/100\n",
      "2/2 [==============================] - 0s 5ms/step - loss: 0.3328 - accuracy: 0.8455\n",
      "Epoch 85/100\n",
      "2/2 [==============================] - 0s 4ms/step - loss: 0.3289 - accuracy: 0.8455\n",
      "Epoch 86/100\n",
      "2/2 [==============================] - 0s 4ms/step - loss: 0.3117 - accuracy: 0.8727\n",
      "Epoch 87/100\n",
      "2/2 [==============================] - 0s 4ms/step - loss: 0.3117 - accuracy: 0.8909\n",
      "Epoch 88/100\n",
      "2/2 [==============================] - 0s 4ms/step - loss: 0.3162 - accuracy: 0.8727\n",
      "Epoch 89/100\n",
      "2/2 [==============================] - 0s 4ms/step - loss: 0.3145 - accuracy: 0.8727\n",
      "Epoch 90/100\n",
      "2/2 [==============================] - 0s 4ms/step - loss: 0.3275 - accuracy: 0.8909\n",
      "Epoch 91/100\n",
      "2/2 [==============================] - 0s 4ms/step - loss: 0.3354 - accuracy: 0.8455\n",
      "Epoch 92/100\n",
      "2/2 [==============================] - 0s 4ms/step - loss: 0.3062 - accuracy: 0.8727\n",
      "Epoch 93/100\n",
      "2/2 [==============================] - 0s 4ms/step - loss: 0.3086 - accuracy: 0.8818\n",
      "Epoch 94/100\n",
      "2/2 [==============================] - 0s 5ms/step - loss: 0.3023 - accuracy: 0.9091\n",
      "Epoch 95/100\n",
      "2/2 [==============================] - 0s 5ms/step - loss: 0.2964 - accuracy: 0.9091\n",
      "Epoch 96/100\n",
      "2/2 [==============================] - 0s 4ms/step - loss: 0.3223 - accuracy: 0.8818\n",
      "Epoch 97/100\n",
      "2/2 [==============================] - 0s 5ms/step - loss: 0.3084 - accuracy: 0.8818\n",
      "Epoch 98/100\n",
      "2/2 [==============================] - 0s 6ms/step - loss: 0.3555 - accuracy: 0.8636\n",
      "Epoch 99/100\n",
      "2/2 [==============================] - 0s 5ms/step - loss: 0.3013 - accuracy: 0.8818\n",
      "Epoch 100/100\n",
      "2/2 [==============================] - 0s 4ms/step - loss: 0.3239 - accuracy: 0.8727\n"
     ]
    }
   ],
   "source": [
    "# Training the model\n",
    "history = model.fit(features, series_labels, epochs=100, batch_size=num_units_penultimate)"
   ]
  },
  {
   "cell_type": "code",
   "execution_count": 7,
   "id": "4f28374e-3a91-41d1-a0b4-f6cad3495a88",
   "metadata": {},
   "outputs": [
    {
     "name": "stdout",
     "output_type": "stream",
     "text": [
      "198/198 [==============================] - 0s 2ms/step\n"
     ]
    },
    {
     "data": {
      "image/png": "[encoded data removed]",
      "text/plain": [
       "<Figure size 432x288 with 2 Axes>"
      ]
     },
     "metadata": {
      "needs_background": "light"
     },
     "output_type": "display_data"
    }
   ],
   "source": [
    "_plotting.plot_decision_boundary_2D(features, series_labels, model)"
   ]
  },
  {
   "cell_type": "code",
   "execution_count": null,
   "id": "81dca680-329e-4971-a33f-3615ec071741",
   "metadata": {},
   "outputs": [],
   "source": []
  }
 ],
 "metadata": {
  "kernelspec": {
   "display_name": "Python 3 (ipykernel)",
   "language": "python",
   "name": "python3"
  },
  "language_info": {
   "codemirror_mode": {
    "name": "ipython",
    "version": 3
   },
   "file_extension": ".py",
   "mimetype": "text/x-python",
   "name": "python",
   "nbconvert_exporter": "python",
   "pygments_lexer": "ipython3",
   "version": "3.9.5"
  }
 },
 "nbformat": 4,
 "nbformat_minor": 5
}

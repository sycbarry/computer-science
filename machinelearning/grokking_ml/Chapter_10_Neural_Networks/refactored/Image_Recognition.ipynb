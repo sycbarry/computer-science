{
 "cells": [
  {
   "cell_type": "markdown",
   "id": "e71afb5e-ac05-4837-98b3-8739dcc3af4f",
   "metadata": {},
   "source": [
    "# Building an Image Recognition Neural Network\n",
    "\n",
    "The model we'll build will use the classic MNIST dataset with handwritten numbers. We'll also cover how to construct a more robust model, make predictions, and get the meta data to determine how well the model actually performs."
   ]
  },
  {
   "cell_type": "code",
   "execution_count": 1,
   "id": "3fecdd7c-057c-4111-9cc2-e9c695fb8215",
   "metadata": {},
   "outputs": [],
   "source": [
    "# imports \n",
    "\n",
    "import numpy\n",
    "import pandas\n",
    "import matplotlib.pyplot as plt\n",
    "import tensorflow\n",
    "import tensorflow.keras\n",
    "from tensorflow.keras.models import Sequential\n",
    "from tensorflow.keras.layers import Dense, Dropout, LeakyReLU\n",
    "\n",
    "# Setting random seeds to get reproducible results\n",
    "numpy.random.seed(0)\n",
    "tensorflow.random.set_seed(1)"
   ]
  },
  {
   "cell_type": "markdown",
   "id": "9cf10fcd-e0a3-437e-bc0e-9ab420fddc2d",
   "metadata": {},
   "source": [
    "## Reading the data\n",
    "\n",
    "The built-in dataset is already balanced, so we don't need to worry about stratifying classes to ensure equal representation between the splits. In practice, you could use something like Sklearn's train_test_split."
   ]
  },
  {
   "cell_type": "code",
   "execution_count": 2,
   "id": "41fb4676-7cf2-4f9d-87c4-7c9767d10eda",
   "metadata": {},
   "outputs": [
    {
     "name": "stdout",
     "output_type": "stream",
     "text": [
      "Training set size: 60000\n",
      "Testing set size: 10000\n",
      "The label is 2\n"
     ]
    },
    {
     "data": {
      "image/png": "[encoded data removed]",
      "text/plain": [
       "<Figure size 432x288 with 1 Axes>"
      ]
     },
     "metadata": {
      "needs_background": "light"
     },
     "output_type": "display_data"
    },
    {
     "data": {
      "image/png": "[encoded data removed]",
      "text/plain": [
       "<Figure size 1440x1440 with 5 Axes>"
      ]
     },
     "metadata": {},
     "output_type": "display_data"
    }
   ],
   "source": [
    "(x_train, y_train), (x_test, y_test) = tensorflow.keras.datasets.mnist.load_data()\n",
    "print(\"Training set size:\", len(x_train))\n",
    "print(\"Testing set size:\", len(x_test))\n",
    "\n",
    "plt.imshow(x_train[5], cmap='Greys')\n",
    "print(\"The label is\", y_train[5])\n",
    "\n",
    "# Plotting some examples of numbers\n",
    "fig = plt.figure(figsize=(20,20))\n",
    "for i in range(5):\n",
    "    ax = fig.add_subplot(1, 5, i+1, xticks=[], yticks=[])\n",
    "    ax.imshow(x_train[i], cmap='Greys')\n",
    "    ax.set_title('Label:' + str(y_train[i]))"
   ]
  },
  {
   "cell_type": "markdown",
   "id": "79daaaf9-12a2-4cf1-aa12-6440b4c95413",
   "metadata": {},
   "source": [
    "## Pre-processing the data\n",
    "\n",
    "We'll have to reshape the data to make it train faster, and we'll also use the pandas.factorize to ensure we get the classes despite them being synonymous with numbers."
   ]
  },
  {
   "cell_type": "code",
   "execution_count": 3,
   "id": "c5ae6110-15c3-4d76-92b9-349aad4ef8ff",
   "metadata": {},
   "outputs": [
    {
     "name": "stdout",
     "output_type": "stream",
     "text": [
      "(60000, 784)\n",
      "(60000,)\n",
      "10\n"
     ]
    }
   ],
   "source": [
    "# Reshaping the features\n",
    "num_columns = 28*28\n",
    "x_train_reshaped = x_train.reshape(-1, num_columns) # -1 is a placeholder for the dataset's size\n",
    "x_test_reshaped = x_test.reshape(-1, num_columns)\n",
    "\n",
    "# This isn't necessary since numbers are coincidentally the same as the class labels, but it's a good practice.\n",
    "y_train_cat, y_train_labels = pandas.factorize(y_train, sort=True) # returns 1D array\n",
    "y_test_cat, y_test_labels = pandas.factorize(y_test, sort=True) # sort to ensure class labels and numbers align\n",
    "\n",
    "# The test and train are balanced so they should have the same number of classes\n",
    "num_labels = len(set( list(y_test_labels) + list(y_test_labels))) # Add lists then use set to get unique values\n",
    "assert num_labels == 10\n",
    "\n",
    "print(x_train_reshaped.shape)\n",
    "print(y_train_cat.shape) \n",
    "print(num_labels)"
   ]
  },
  {
   "cell_type": "markdown",
   "id": "ba55e35f-5126-493e-b2e4-457f18010059",
   "metadata": {},
   "source": [
    "## Model Structure\n",
    "\n",
    "We'll use a sequential model to add a few dense layers with the LeakyReLu activation function. ReLu is good, but it's prone to zeroing out. We'll once againt add dropout and set our unit sizes as powers of 2. We also use sparse_categorical_crossentropy since our labels are 1D."
   ]
  },
  {
   "cell_type": "code",
   "execution_count": 4,
   "id": "4be13fb7-3cc2-40cb-86f7-f96585db7703",
   "metadata": {},
   "outputs": [
    {
     "name": "stdout",
     "output_type": "stream",
     "text": [
      "Model: \"sequential\"\n",
      "_________________________________________________________________\n",
      " Layer (type)                Output Shape              Param #   \n",
      "=================================================================\n",
      " dense (Dense)               (None, 128)               100480    \n",
      "                                                                 \n",
      " leaky_re_lu (LeakyReLU)     (None, 128)               0         \n",
      "                                                                 \n",
      " dropout (Dropout)           (None, 128)               0         \n",
      "                                                                 \n",
      " dense_1 (Dense)             (None, 64)                8256      \n",
      "                                                                 \n",
      " leaky_re_lu_1 (LeakyReLU)   (None, 64)                0         \n",
      "                                                                 \n",
      " dropout_1 (Dropout)         (None, 64)                0         \n",
      "                                                                 \n",
      " dense_2 (Dense)             (None, 10)                650       \n",
      "                                                                 \n",
      "=================================================================\n",
      "Total params: 109,386\n",
      "Trainable params: 109,386\n",
      "Non-trainable params: 0\n",
      "_________________________________________________________________\n"
     ]
    }
   ],
   "source": [
    "# Building the model\n",
    "num_units_penultimate = 2**6\n",
    "model = Sequential()\n",
    "model.add(Dense(2**7, input_shape=(num_columns,)))\n",
    "model.add(LeakyReLU(alpha = 0.01))\n",
    "model.add(Dropout(.2))\n",
    "model.add(Dense(num_units_penultimate))\n",
    "model.add(LeakyReLU(alpha = 0.01))\n",
    "model.add(Dropout(.2))\n",
    "model.add(Dense(num_labels, activation='softmax')) # two or more classes\n",
    "\n",
    "# Compiling the model\n",
    "model.compile(\n",
    "    loss = 'sparse_categorical_crossentropy',\n",
    "    optimizer='adam',\n",
    "    metrics=['accuracy']\n",
    ")\n",
    "model.summary()"
   ]
  },
  {
   "cell_type": "markdown",
   "id": "c1926762-899b-4c29-b342-21fa46c941d0",
   "metadata": {},
   "source": [
    "## Training the Model\n",
    "It's a good practice to set your batch size equal to the number of penultimate neurons in your layer. Training accuracy will vary due to the stochastic nature of the model, but you can clearly see the loss going down and the accuracy going up. We'll save the model to the history instance so we can get the metadata."
   ]
  },
  {
   "cell_type": "code",
   "execution_count": 5,
   "id": "551f675e-2a46-466d-9442-31f21edb1205",
   "metadata": {},
   "outputs": [
    {
     "name": "stdout",
     "output_type": "stream",
     "text": [
      "Epoch 1/10\n",
      "938/938 [==============================] - 3s 3ms/step - loss: 3.1994 - accuracy: 0.6949\n",
      "Epoch 2/10\n",
      "938/938 [==============================] - 3s 3ms/step - loss: 0.6405 - accuracy: 0.8247\n",
      "Epoch 3/10\n",
      "938/938 [==============================] - 3s 3ms/step - loss: 0.4863 - accuracy: 0.8638\n",
      "Epoch 4/10\n",
      "938/938 [==============================] - 3s 3ms/step - loss: 0.4073 - accuracy: 0.8860\n",
      "Epoch 5/10\n",
      "938/938 [==============================] - 3s 3ms/step - loss: 0.3610 - accuracy: 0.9014\n",
      "Epoch 6/10\n",
      "938/938 [==============================] - 3s 4ms/step - loss: 0.3193 - accuracy: 0.9100\n",
      "Epoch 7/10\n",
      "938/938 [==============================] - 3s 3ms/step - loss: 0.2835 - accuracy: 0.9211\n",
      "Epoch 8/10\n",
      "938/938 [==============================] - 3s 3ms/step - loss: 0.2641 - accuracy: 0.9273\n",
      "Epoch 9/10\n",
      "938/938 [==============================] - 3s 3ms/step - loss: 0.2521 - accuracy: 0.9296\n",
      "Epoch 10/10\n",
      "938/938 [==============================] - 4s 4ms/step - loss: 0.2288 - accuracy: 0.9354\n"
     ]
    }
   ],
   "source": [
    "history = model.fit(x_train_reshaped, y_train_cat, epochs=10, batch_size=num_units_penultimate, verbose = 1)"
   ]
  },
  {
   "cell_type": "code",
   "execution_count": 6,
   "id": "ece2e5d9-f714-458a-b17a-398ecf37ade3",
   "metadata": {},
   "outputs": [
    {
     "data": {
      "text/plain": [
       "{'validation_data': None,\n",
       " 'model': <keras.engine.sequential.Sequential at 0x1da4b072c10>,\n",
       " '_chief_worker_only': None,\n",
       " '_supports_tf_logs': False,\n",
       " 'history': {'loss': [3.199434995651245,\n",
       "   0.6405399441719055,\n",
       "   0.486316978931427,\n",
       "   0.4073334038257599,\n",
       "   0.3610023856163025,\n",
       "   0.31927186250686646,\n",
       "   0.2834741473197937,\n",
       "   0.2640761733055115,\n",
       "   0.2520712912082672,\n",
       "   0.22878681123256683],\n",
       "  'accuracy': [0.6948999762535095,\n",
       "   0.8246999979019165,\n",
       "   0.8637833595275879,\n",
       "   0.8860499858856201,\n",
       "   0.9014333486557007,\n",
       "   0.9099500179290771,\n",
       "   0.9210666418075562,\n",
       "   0.927299976348877,\n",
       "   0.9296333193778992,\n",
       "   0.9353833198547363]},\n",
       " 'params': {'verbose': 1, 'epochs': 10, 'steps': 938},\n",
       " 'epoch': [0, 1, 2, 3, 4, 5, 6, 7, 8, 9]}"
      ]
     },
     "execution_count": 6,
     "metadata": {},
     "output_type": "execute_result"
    }
   ],
   "source": [
    "history.__dict__ # Neat trick to get class attributes"
   ]
  },
  {
   "cell_type": "markdown",
   "id": "a0e6cdc3-3d6a-49e4-bcff-f11b5b8a8f2e",
   "metadata": {},
   "source": [
    "## Making predictions\n",
    "\n",
    "We'll have the trained model return a matrix of predictions and use argmax to get the index with the highest probability to get the prediction in each row. For example, if there are 3 classes and the matrix has a row like [0.4, 0.1, 0.5], then the third class (index 2) will be the class our softmax produced."
   ]
  },
  {
   "cell_type": "code",
   "execution_count": 7,
   "id": "af4b399f-809b-4470-a2de-ef3ea9f7fd07",
   "metadata": {},
   "outputs": [
    {
     "name": "stdout",
     "output_type": "stream",
     "text": [
      "313/313 [==============================] - 1s 2ms/step\n",
      "(10000, 10)\n",
      "Matrix row of predictions: [1.58623618e-24 2.82618416e-18 1.09072137e-12 2.88809243e-08\n",
      " 2.28177921e-29 4.77224047e-24 1.09657014e-35 1.00000000e+00\n",
      " 4.32105779e-24 3.43912225e-11]\n"
     ]
    }
   ],
   "source": [
    "matrix_predictions = model.predict(x_test_reshaped)\n",
    "print(matrix_predictions.shape) # the columns equals the number of classes\n",
    "print(\"Matrix row of predictions:\", matrix_predictions[0])"
   ]
  },
  {
   "cell_type": "code",
   "execution_count": 8,
   "id": "2d8728d5-e9f8-4414-957f-cbb301315a77",
   "metadata": {},
   "outputs": [],
   "source": [
    "predictions = [numpy.argmax(pred) for pred in matrix_predictions]\n",
    "array_correct = predictions == y_test_cat # numpy arrays allow point-wise comparisons, and this is a boolean 1D vector"
   ]
  },
  {
   "cell_type": "markdown",
   "id": "89f44fbf-1291-4585-afa5-1a83ca5ac761",
   "metadata": {},
   "source": [
    "Sometimes we'll get it right"
   ]
  },
  {
   "cell_type": "code",
   "execution_count": 9,
   "id": "63769012-7a9a-4d1a-9932-038b8a8a2fa2",
   "metadata": {},
   "outputs": [
    {
     "data": {
      "image/png": "[encoded data removed]",
      "text/plain": [
       "<Figure size 432x288 with 1 Axes>"
      ]
     },
     "metadata": {},
     "output_type": "display_data"
    },
    {
     "name": "stdout",
     "output_type": "stream",
     "text": [
      "The label is 7\n",
      "The prediction is 7\n"
     ]
    }
   ],
   "source": [
    "index_correct = numpy.where(array_correct == True)[0][0] # Where returns tuple\n",
    "plt.imshow(x_test[index_correct], cmap='Greys')\n",
    "plt.xticks([])\n",
    "plt.yticks([])\n",
    "plt.show()\n",
    "print(\"The label is\", y_test_cat[index_correct])\n",
    "print(\"The prediction is\", predictions[index_correct])"
   ]
  },
  {
   "cell_type": "markdown",
   "id": "b8b6ed48-b890-4f9c-bd4d-9daca85c9574",
   "metadata": {},
   "source": [
    "Sometimes we'll get it wrong"
   ]
  },
  {
   "cell_type": "code",
   "execution_count": 10,
   "id": "67e9a70b-c2b5-496e-a61f-0ca79d9899cd",
   "metadata": {},
   "outputs": [
    {
     "data": {
      "image/png": "[encoded data removed]",
      "text/plain": [
       "<Figure size 432x288 with 1 Axes>"
      ]
     },
     "metadata": {},
     "output_type": "display_data"
    },
    {
     "name": "stdout",
     "output_type": "stream",
     "text": [
      "The label is 5\n",
      "The prediction is 6\n"
     ]
    }
   ],
   "source": [
    "index_incorrect = numpy.where(array_correct == False)[0][0] # Where returns tuple\n",
    "plt.imshow(x_test[index_incorrect], cmap='Greys')\n",
    "plt.xticks([])\n",
    "plt.yticks([])\n",
    "plt.show()\n",
    "print(\"The label is\", y_test_cat[index_incorrect])\n",
    "print(\"The prediction is\", predictions[index_incorrect])"
   ]
  },
  {
   "cell_type": "markdown",
   "id": "e5b45140-b676-4042-8bf6-52d9d800de48",
   "metadata": {},
   "source": [
    "## Finding the accuracy of the model on the test set"
   ]
  },
  {
   "cell_type": "code",
   "execution_count": 11,
   "id": "f141d692-f4b2-4c39-a643-121050b9258b",
   "metadata": {},
   "outputs": [
    {
     "name": "stdout",
     "output_type": "stream",
     "text": [
      "The model is correct 9538 times out of 10000\n",
      "The accuracy is 0.9538\n"
     ]
    }
   ],
   "source": [
    "num_correct = array_correct.sum() # True is 1 and False is 0.\n",
    "print(\"The model is correct\", num_correct, \"times out of\", len(y_test_cat))\n",
    "print(\"The accuracy is\", num_correct/len(y_test_cat))"
   ]
  },
  {
   "cell_type": "code",
   "execution_count": null,
   "id": "8abcbf56-9b76-4799-977c-c94fe27a3505",
   "metadata": {},
   "outputs": [],
   "source": []
  }
 ],
 "metadata": {
  "kernelspec": {
   "display_name": "Python 3 (ipykernel)",
   "language": "python",
   "name": "python3"
  },
  "language_info": {
   "codemirror_mode": {
    "name": "ipython",
    "version": 3
   },
   "file_extension": ".py",
   "mimetype": "text/x-python",
   "name": "python",
   "nbconvert_exporter": "python",
   "pygments_lexer": "ipython3",
   "version": "3.9.5"
  }
 },
 "nbformat": 4,
 "nbformat_minor": 5
}
